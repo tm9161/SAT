{
 "cells": [
  {
   "cell_type": "code",
   "execution_count": 1,
   "id": "6bd92cbb-c95c-4b20-9730-f497a29474c5",
   "metadata": {},
   "outputs": [],
   "source": [
    "import torch\n",
    "import torch.nn as nn\n",
    "import torch.optim as optim\n",
    "from torchvision import datasets, transforms\n",
    "from torch.utils.data import DataLoader\n",
    "import matplotlib.pyplot as plt"
   ]
  },
  {
   "cell_type": "code",
   "execution_count": 2,
   "id": "daac7037-5b53-437e-9969-63f6ecd8d70c",
   "metadata": {},
   "outputs": [],
   "source": [
    "device = torch.device(\"cuda\" if torch.cuda.is_available() else \"cpu\")"
   ]
  },
  {
   "cell_type": "code",
   "execution_count": 3,
   "id": "0390c398-40b4-4f26-a175-01e8f945ec7a",
   "metadata": {},
   "outputs": [],
   "source": [
    "train_dir = '../sat2/train'\n",
    "val_dir = '../sat2/val'\n",
    "\n",
    "im_size = 224\n",
    "batch_size = 32\n",
    "num_classes = 5\n",
    "num_epochs = 30\n",
    "lr = 0.0005"
   ]
  },
  {
   "cell_type": "code",
   "execution_count": 4,
   "id": "4d6c2838-f39c-4f99-84db-9d3e6f320c4d",
   "metadata": {},
   "outputs": [],
   "source": [
    "train_transforms = transforms.Compose([                         # 定义训练数据的预处理操作序列\n",
    "    transforms.Resize((im_size, im_size)),                      # 将图片缩放为统一尺寸（例如 224x224）\n",
    "    transforms.RandomHorizontalFlip(),                          # 以一定概率进行水平翻转（数据增强）\n",
    "    transforms.ToTensor(),                                      # 转为张量（Tensor），并归一化到 [0,1]\n",
    "])\n",
    "\n",
    "val_transforms = transforms.Compose([                           # 定义验证数据的预处理操作（不增强）\n",
    "    transforms.Resize((im_size, im_size)),                      # 缩放为统一尺寸\n",
    "    transforms.ToTensor(),                                      # 转为张量并归一化\n",
    "])\n",
    "\n",
    "train_dataset = datasets.ImageFolder(train_dir, transform=train_transforms)  # 按文件夹读取训练数据，并应用预处理\n",
    "val_dataset = datasets.ImageFolder(val_dir, transform=val_transforms)        # 按文件夹读取验证数据，并应用预处理\n",
    "\n",
    "train_loader = DataLoader(train_dataset, batch_size=batch_size, shuffle=True, num_workers=8)  # 加载训练数据，打乱顺序，多线程提速\n",
    "val_loader = DataLoader(val_dataset, batch_size=batch_size, shuffle=False, num_workers=8)     # 加载验证数据，不打乱顺序，多线程提速"
   ]
  },
  {
   "cell_type": "code",
   "execution_count": 5,
   "id": "17fe6af6-87b1-4c76-9efe-5a99fe710bf8",
   "metadata": {},
   "outputs": [],
   "source": [
    "class BasicBlock(nn.Module):\n",
    "    expansion = 1  # 输出通道不变\n",
    "\n",
    "    def __init__(self, in_channels, out_channels, stride=1, downsample=None):\n",
    "        super().__init__()\n",
    "        self.conv1 = nn.Conv2d(in_channels, out_channels, kernel_size=3,stride=stride, padding=1, bias=False)\n",
    "        self.bn1 = nn.BatchNorm2d(out_channels)\n",
    "        self.relu = nn.ReLU(inplace=True)\n",
    "        self.conv2 = nn.Conv2d(out_channels, out_channels, kernel_size=3,stride=1, padding=1, bias=False)\n",
    "        self.bn2 = nn.BatchNorm2d(out_channels)\n",
    "        self.downsample = downsample  # 用于匹配维度\n",
    "\n",
    "    def forward(self, x):\n",
    "        identity = x if self.downsample is None else self.downsample(x)\n",
    "        out = self.relu(self.bn1(self.conv1(x)))\n",
    "        out = self.bn2(self.conv2(out))\n",
    "        out += identity\n",
    "        out = self.relu(out)\n",
    "        return out"
   ]
  },
  {
   "cell_type": "code",
   "execution_count": 6,
   "id": "1d4b5776-e04a-402b-aac0-7c8a030df07d",
   "metadata": {},
   "outputs": [],
   "source": [
    "class BottleNeck(nn.Module):\n",
    "    expansion = 4  # 输出通道为输入的4倍\n",
    "\n",
    "    def __init__(self, in_channels, out_channels, stride=1, downsample=None):\n",
    "        super().__init__()\n",
    "        self.conv1 = nn.Conv2d(in_channels, out_channels, kernel_size=1,stride=1, bias=False)\n",
    "        self.bn1 = nn.BatchNorm2d(out_channels)\n",
    "        self.conv2 = nn.Conv2d(out_channels, out_channels, kernel_size=3,stride=stride, padding=1, bias=False)\n",
    "        self.bn2 = nn.BatchNorm2d(out_channels)\n",
    "        self.conv3 = nn.Conv2d(out_channels, out_channels * 4, kernel_size=1,stride=1, bias=False)\n",
    "        self.bn3 = nn.BatchNorm2d(out_channels * 4)\n",
    "        self.relu = nn.ReLU(inplace=True)\n",
    "        self.downsample = downsample  # 用于匹配维度\n",
    "\n",
    "    def forward(self, x):\n",
    "        identity = x if self.downsample is None else self.downsample(x)\n",
    "        out = self.relu(self.bn1(self.conv1(x)))\n",
    "        out = self.relu(self.bn2(self.conv2(out)))\n",
    "        out = self.bn3(self.conv3(out))\n",
    "        out += identity\n",
    "        out = self.relu(out)\n",
    "        return out"
   ]
  },
  {
   "cell_type": "code",
   "execution_count": 7,
   "id": "b571e9de-bbe4-4627-a725-658f7682a7bc",
   "metadata": {},
   "outputs": [],
   "source": [
    "class ResNet(nn.Module):\n",
    "    def __init__(self, block, layers, num_classes=5):\n",
    "        super().__init__()\n",
    "        self.in_channels = 64  # 第一层输入通道数\n",
    "\n",
    "        self.conv1 = nn.Conv2d(3, 64, kernel_size=7,stride=2, padding=3, bias=False)\n",
    "        self.bn1 = nn.BatchNorm2d(64)\n",
    "        self.relu = nn.ReLU(inplace=True)\n",
    "        self.maxpool = nn.MaxPool2d(kernel_size=3, stride=2, padding=1)\n",
    "\n",
    "        # 每个 layer 对应一个 stage\n",
    "        self.layer1 = self._make_layer(block, 64, layers[0], stride=1)\n",
    "        self.layer2 = self._make_layer(block, 128, layers[1], stride=2)\n",
    "        self.layer3 = self._make_layer(block, 256, layers[2], stride=2)\n",
    "        self.layer4 = self._make_layer(block, 512, layers[3], stride=2)\n",
    "\n",
    "        self.avgpool = nn.AdaptiveAvgPool2d((1, 1))  # 全局平均池化\n",
    "        self.fc = nn.Linear(512 * block.expansion, num_classes)\n",
    "\n",
    "    def _make_layer(self, block, out_channels, blocks, stride):\n",
    "        downsample = None\n",
    "        if stride != 1 or self.in_channels != out_channels * block.expansion:\n",
    "            # 如果维度不一致，需要下采样\n",
    "            downsample = nn.Sequential(\n",
    "                nn.Conv2d(self.in_channels, out_channels * block.expansion,kernel_size=1, stride=stride, bias=False),\n",
    "                nn.BatchNorm2d(out_channels * block.expansion)\n",
    "            )\n",
    "\n",
    "        layers = []\n",
    "        layers.append(block(self.in_channels, out_channels, stride, downsample))\n",
    "        self.in_channels = out_channels * block.expansion\n",
    "        for _ in range(1, blocks):\n",
    "            layers.append(block(self.in_channels, out_channels))\n",
    "\n",
    "        return nn.Sequential(*layers)\n",
    "\n",
    "    def forward(self, x):\n",
    "        x = self.relu(self.bn1(self.conv1(x)))\n",
    "        x = self.maxpool(x)\n",
    "\n",
    "        x = self.layer1(x)\n",
    "        x = self.layer2(x)\n",
    "        x = self.layer3(x)\n",
    "        x = self.layer4(x)\n",
    "\n",
    "        x = self.avgpool(x)\n",
    "        x = torch.flatten(x, 1)\n",
    "        x = self.fc(x)\n",
    "\n",
    "        return x"
   ]
  },
  {
   "cell_type": "code",
   "execution_count": 8,
   "id": "e9dfb1d7-30d5-4803-a5a6-66cf6e569d3b",
   "metadata": {},
   "outputs": [],
   "source": [
    "def build_resnet18():\n",
    "    return ResNet(BasicBlock, [2, 2, 2, 2], num_classes=num_classes)\n",
    "\n",
    "def build_resnet50():\n",
    "    return ResNet(BottleNeck, [3, 4, 6, 3], num_classes=num_classes)\n",
    "\n",
    "model = build_resnet18().to(device)\n",
    "# model = build_resnet50().to(device)  # 可切换成ResNet50\n",
    "\n",
    "criterion = nn.CrossEntropyLoss()\n",
    "optimizer = optim.Adam(model.parameters(), lr=lr)\n",
    "\n",
    "train_acc_list = []\n",
    "val_acc_list = []"
   ]
  },
  {
   "cell_type": "code",
   "execution_count": 9,
   "id": "b29a3582-c2f1-411d-bdf4-749ee1dc895a",
   "metadata": {},
   "outputs": [
    {
     "name": "stdout",
     "output_type": "stream",
     "text": [
      "Epoch [1/30] Train Acc: 0.5651, Val Acc: 0.4457\n",
      "Epoch [2/30] Train Acc: 0.6698, Val Acc: 0.6486\n",
      "Epoch [3/30] Train Acc: 0.6962, Val Acc: 0.7657\n",
      "Epoch [4/30] Train Acc: 0.7622, Val Acc: 0.6743\n",
      "Epoch [5/30] Train Acc: 0.7813, Val Acc: 0.7457\n",
      "Epoch [6/30] Train Acc: 0.8067, Val Acc: 0.7343\n",
      "Epoch [7/30] Train Acc: 0.8232, Val Acc: 0.7886\n",
      "Epoch [8/30] Train Acc: 0.8429, Val Acc: 0.7943\n",
      "Epoch [9/30] Train Acc: 0.8578, Val Acc: 0.8200\n",
      "Epoch [10/30] Train Acc: 0.8848, Val Acc: 0.8400\n",
      "Epoch [11/30] Train Acc: 0.8921, Val Acc: 0.8029\n",
      "Epoch [12/30] Train Acc: 0.9022, Val Acc: 0.8343\n",
      "Epoch [13/30] Train Acc: 0.9165, Val Acc: 0.8629\n",
      "Epoch [14/30] Train Acc: 0.9216, Val Acc: 0.8829\n",
      "Epoch [15/30] Train Acc: 0.9378, Val Acc: 0.8943\n",
      "Epoch [16/30] Train Acc: 0.9400, Val Acc: 0.9229\n",
      "Epoch [17/30] Train Acc: 0.9422, Val Acc: 0.9143\n",
      "Epoch [18/30] Train Acc: 0.9524, Val Acc: 0.8971\n",
      "Epoch [19/30] Train Acc: 0.9540, Val Acc: 0.8943\n",
      "Epoch [20/30] Train Acc: 0.9517, Val Acc: 0.8571\n",
      "Epoch [21/30] Train Acc: 0.9667, Val Acc: 0.8914\n",
      "Epoch [22/30] Train Acc: 0.9759, Val Acc: 0.9200\n",
      "Epoch [23/30] Train Acc: 0.9648, Val Acc: 0.8886\n",
      "Epoch [24/30] Train Acc: 0.9632, Val Acc: 0.8914\n",
      "Epoch [25/30] Train Acc: 0.9721, Val Acc: 0.9257\n",
      "Epoch [26/30] Train Acc: 0.9679, Val Acc: 0.9143\n",
      "Epoch [27/30] Train Acc: 0.9752, Val Acc: 0.8514\n",
      "Epoch [28/30] Train Acc: 0.9759, Val Acc: 0.9086\n",
      "Epoch [29/30] Train Acc: 0.9838, Val Acc: 0.8914\n",
      "Epoch [30/30] Train Acc: 0.9768, Val Acc: 0.9171\n"
     ]
    }
   ],
   "source": [
    "for epoch in range(num_epochs):\n",
    "    model.train()\n",
    "    correct = 0\n",
    "    total = 0\n",
    "\n",
    "    for images, labels in train_loader:\n",
    "        images, labels = images.to(device), labels.to(device)\n",
    "\n",
    "        optimizer.zero_grad()\n",
    "        outputs = model(images)\n",
    "        loss = criterion(outputs, labels)\n",
    "        loss.backward()\n",
    "        optimizer.step()\n",
    "\n",
    "        _, preds = torch.max(outputs, 1)\n",
    "        correct += (preds == labels).sum().item()\n",
    "        total += labels.size(0)\n",
    "\n",
    "    train_acc = correct / total\n",
    "    train_acc_list.append(train_acc)\n",
    "\n",
    "    # 验证\n",
    "    model.eval()\n",
    "    val_correct = 0\n",
    "    val_total = 0\n",
    "    with torch.no_grad():\n",
    "        for images, labels in val_loader:\n",
    "            images, labels = images.to(device), labels.to(device)\n",
    "            outputs = model(images)\n",
    "            _, preds = torch.max(outputs, 1)\n",
    "            val_correct += (preds == labels).sum().item()\n",
    "            val_total += labels.size(0)\n",
    "\n",
    "    val_acc = val_correct / val_total\n",
    "    val_acc_list.append(val_acc)\n",
    "\n",
    "    print(f\"Epoch [{epoch+1}/{num_epochs}] Train Acc: {train_acc:.4f}, Val Acc: {val_acc:.4f}\")\n"
   ]
  },
  {
   "cell_type": "code",
   "execution_count": 10,
   "id": "32ca949a-cd9c-44bd-91f3-16ff0343b6c9",
   "metadata": {},
   "outputs": [
    {
     "data": {
      "image/png": "[encoded data removed]",
      "text/plain": [
       "<Figure size 640x480 with 1 Axes>"
      ]
     },
     "metadata": {},
     "output_type": "display_data"
    }
   ],
   "source": [
    "plt.plot(range(1, num_epochs + 1), train_acc_list, label='Train Acc')\n",
    "plt.plot(range(1, num_epochs + 1), val_acc_list, label='Val Acc')\n",
    "plt.xlabel(\"Epoch\")\n",
    "plt.ylabel(\"Accuracy\")\n",
    "plt.legend()\n",
    "plt.show()"
   ]
  },
  {
   "cell_type": "code",
   "execution_count": 11,
   "id": "2f0c7ce3-18f8-40aa-a93f-8c00e10891ee",
   "metadata": {},
   "outputs": [],
   "source": [
    "torch.save(model.state_dict(), \"ResNet18.pth\")"
   ]
  },
  {
   "cell_type": "code",
   "execution_count": null,
   "id": "cc2f10fb-494c-4edb-9f40-40c3038d0783",
   "metadata": {},
   "outputs": [],
   "source": []
  }
 ],
 "metadata": {
  "kernelspec": {
   "display_name": "Python 3 (ipykernel)",
   "language": "python",
   "name": "python3"
  },
  "language_info": {
   "codemirror_mode": {
    "name": "ipython",
    "version": 3
   },
   "file_extension": ".py",
   "mimetype": "text/x-python",
   "name": "python",
   "nbconvert_exporter": "python",
   "pygments_lexer": "ipython3",
   "version": "3.8.18"
  }
 },
 "nbformat": 4,
 "nbformat_minor": 5
}
