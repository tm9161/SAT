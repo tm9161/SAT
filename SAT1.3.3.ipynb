{
 "cells": [
  {
   "cell_type": "code",
   "execution_count": 1,
   "metadata": {},
   "outputs": [],
   "source": [
    "import tensorflow as tf\n",
    "from tensorflow.keras.preprocessing.image import ImageDataGenerator\n",
    "\n",
    "import numpy as np\n",
    "import pandas as pd\n",
    "\n",
    "import matplotlib.pyplot as plt"
   ]
  },
  {
   "cell_type": "code",
   "execution_count": 2,
   "metadata": {},
   "outputs": [],
   "source": [
    "gpus = tf.config.list_physical_devices(device_type='GPU')\n",
    "for gpu in gpus:\n",
    "    tf.config.experimental.set_memory_growth(device=gpu, enable=True)   \n",
    "#GPU内存管理"
   ]
  },
  {
   "cell_type": "code",
   "execution_count": 3,
   "metadata": {},
   "outputs": [],
   "source": [
    "train_dir = 'sat2/train'\n",
    "test_dir = 'sat2/val'\n",
    "\n",
    "im_size = 224\n",
    "batch_size = 32"
   ]
  },
  {
   "cell_type": "code",
   "execution_count": 4,
   "metadata": {},
   "outputs": [],
   "source": [
    "train_images = ImageDataGenerator(rescale = 1/255,horizontal_flip=True)\n",
    "test_images = ImageDataGenerator(rescale = 1/255)\n",
    "#归一化"
   ]
  },
  {
   "cell_type": "code",
   "execution_count": 5,
   "metadata": {
    "scrolled": true
   },
   "outputs": [
    {
     "name": "stdout",
     "output_type": "stream",
     "text": [
      "Found 3150 images belonging to 5 classes.\n"
     ]
    }
   ],
   "source": [
    "train_gen = train_images.flow_from_directory(directory=train_dir,\n",
    "                                             batch_size=batch_size,\n",
    "                                             shuffle=True,\n",
    "                                             target_size=(im_size, im_size),\n",
    "                                             class_mode='categorical')\n",
    "#按路径载入图片，批处理大小，随机，尺寸，读热编码"
   ]
  },
  {
   "cell_type": "code",
   "execution_count": 6,
   "metadata": {},
   "outputs": [
    {
     "name": "stdout",
     "output_type": "stream",
     "text": [
      "Found 350 images belonging to 5 classes.\n"
     ]
    }
   ],
   "source": [
    "val_gen = test_images.flow_from_directory(directory=test_dir,\n",
    "                                          batch_size=batch_size,\n",
    "                                          shuffle=False,\n",
    "                                          target_size=(im_size, im_size),\n",
    "                                          class_mode='categorical')\n",
    "#按路径载入图片，批处理大小，随机，尺寸，读热编码"
   ]
  },
  {
   "cell_type": "code",
   "execution_count": 7,
   "metadata": {},
   "outputs": [],
   "source": [
    "classes = train_gen.class_indices\n",
    "#类别查看"
   ]
  },
  {
   "cell_type": "code",
   "execution_count": 8,
   "metadata": {},
   "outputs": [
    {
     "data": {
      "text/plain": [
       "{'airplane': 0, 'bridge': 1, 'palace': 2, 'ship': 3, 'stadium': 4}"
      ]
     },
     "execution_count": 8,
     "metadata": {},
     "output_type": "execute_result"
    }
   ],
   "source": [
    "classes"
   ]
  },
  {
   "cell_type": "code",
   "execution_count": 9,
   "metadata": {},
   "outputs": [],
   "source": [
    "vgg = tf.keras.applications.VGG16(include_top=False, weights='imagenet',input_shape=(224, 224, 3))\n",
    "vgg.trainable = False\n",
    "#迁移学习 去掉全连接层 加载权重 输入尺寸"
   ]
  },
  {
   "cell_type": "code",
   "execution_count": 10,
   "metadata": {},
   "outputs": [],
   "source": [
    "model = tf.keras.Sequential()\n",
    "#VGG-11/16"
   ]
  },
  {
   "cell_type": "code",
   "execution_count": 11,
   "metadata": {},
   "outputs": [],
   "source": [
    "model.add(vgg)\n",
    "model.add(tf.keras.layers.Flatten())\n",
    "model.add(tf.keras.layers.Dropout(0.5))\n",
    "model.add(tf.keras.layers.Dense(1024, activation='relu'))\n",
    "model.add(tf.keras.layers.Dropout(0.5))\n",
    "model.add(tf.keras.layers.Dense(1024, activation='relu'))\n",
    "model.add(tf.keras.layers.Dense(5, activation='softmax'))"
   ]
  },
  {
   "cell_type": "code",
   "execution_count": 12,
   "metadata": {},
   "outputs": [
    {
     "name": "stdout",
     "output_type": "stream",
     "text": [
      "Model: \"sequential\"\n",
      "_________________________________________________________________\n",
      "Layer (type)                 Output Shape              Param #   \n",
      "=================================================================\n",
      "vgg16 (Functional)           (None, 7, 7, 512)         14714688  \n",
      "_________________________________________________________________\n",
      "flatten (Flatten)            (None, 25088)             0         \n",
      "_________________________________________________________________\n",
      "dropout (Dropout)            (None, 25088)             0         \n",
      "_________________________________________________________________\n",
      "dense (Dense)                (None, 1024)              25691136  \n",
      "_________________________________________________________________\n",
      "dropout_1 (Dropout)          (None, 1024)              0         \n",
      "_________________________________________________________________\n",
      "dense_1 (Dense)              (None, 1024)              1049600   \n",
      "_________________________________________________________________\n",
      "dense_2 (Dense)              (None, 5)                 5125      \n",
      "=================================================================\n",
      "Total params: 41,460,549\n",
      "Trainable params: 26,745,861\n",
      "Non-trainable params: 14,714,688\n",
      "_________________________________________________________________\n"
     ]
    }
   ],
   "source": [
    "model.summary()"
   ]
  },
  {
   "cell_type": "code",
   "execution_count": 13,
   "metadata": {},
   "outputs": [],
   "source": [
    "model.compile(optimizer=tf.keras.optimizers.Adam(learning_rate=0.0005),\n",
    "              loss='categorical_crossentropy',\n",
    "              metrics=['acc'])\n",
    "#学习率设置"
   ]
  },
  {
   "cell_type": "code",
   "execution_count": 14,
   "metadata": {},
   "outputs": [
    {
     "name": "stdout",
     "output_type": "stream",
     "text": [
      "Epoch 1/10\n",
      "99/99 [==============================] - 16s 109ms/step - loss: 1.4274 - acc: 0.5566 - val_loss: 0.4208 - val_acc: 0.8229\n",
      "Epoch 2/10\n",
      "99/99 [==============================] - 8s 77ms/step - loss: 0.4347 - acc: 0.8302 - val_loss: 0.2936 - val_acc: 0.8886\n",
      "Epoch 3/10\n",
      "99/99 [==============================] - 8s 77ms/step - loss: 0.3720 - acc: 0.8685 - val_loss: 0.2911 - val_acc: 0.8886\n",
      "Epoch 4/10\n",
      "99/99 [==============================] - 8s 77ms/step - loss: 0.3180 - acc: 0.8961 - val_loss: 0.2856 - val_acc: 0.8914\n",
      "Epoch 5/10\n",
      "99/99 [==============================] - 8s 77ms/step - loss: 0.3075 - acc: 0.8848 - val_loss: 0.2811 - val_acc: 0.9171\n",
      "Epoch 6/10\n",
      "99/99 [==============================] - 8s 77ms/step - loss: 0.2518 - acc: 0.9057 - val_loss: 0.2592 - val_acc: 0.9086\n",
      "Epoch 7/10\n",
      "99/99 [==============================] - 8s 76ms/step - loss: 0.2281 - acc: 0.9177 - val_loss: 0.2210 - val_acc: 0.9343\n",
      "Epoch 8/10\n",
      "99/99 [==============================] - 8s 76ms/step - loss: 0.2149 - acc: 0.9184 - val_loss: 0.2221 - val_acc: 0.9371\n",
      "Epoch 9/10\n",
      "99/99 [==============================] - 8s 78ms/step - loss: 0.2035 - acc: 0.9263 - val_loss: 0.2434 - val_acc: 0.9000\n",
      "Epoch 10/10\n",
      "99/99 [==============================] - 8s 77ms/step - loss: 0.1672 - acc: 0.9348 - val_loss: 0.2163 - val_acc: 0.9400\n"
     ]
    }
   ],
   "source": [
    "history = model.fit(train_gen,epochs=10,validation_data=val_gen)"
   ]
  },
  {
   "cell_type": "code",
   "execution_count": 15,
   "metadata": {},
   "outputs": [
    {
     "data": {
      "text/plain": [
       "[<matplotlib.lines.Line2D at 0x7fc6d425f220>]"
      ]
     },
     "execution_count": 15,
     "metadata": {},
     "output_type": "execute_result"
    },
    {
     "data": {
      "image/png": "[encoded data removed]",
      "text/plain": [
       "<Figure size 432x288 with 1 Axes>"
      ]
     },
     "metadata": {
      "needs_background": "light"
     },
     "output_type": "display_data"
    }
   ],
   "source": [
    "plt.plot(history.epoch,history.history.get('acc'))\n",
    "plt.plot(history.epoch,history.history.get('val_acc'))"
   ]
  },
  {
   "cell_type": "code",
   "execution_count": 16,
   "metadata": {},
   "outputs": [
    {
     "name": "stdout",
     "output_type": "stream",
     "text": [
      "11/11 [==============================] - 1s 63ms/step - loss: 0.2163 - acc: 0.9400\n"
     ]
    },
    {
     "data": {
      "text/plain": [
       "[0.21628598868846893, 0.9399999976158142]"
      ]
     },
     "execution_count": 16,
     "metadata": {},
     "output_type": "execute_result"
    }
   ],
   "source": [
    "model.evaluate(val_gen)"
   ]
  },
  {
   "cell_type": "code",
   "execution_count": 17,
   "metadata": {},
   "outputs": [],
   "source": [
    "# 保存模型\n",
    "model.save('sat4.h5')"
   ]
  },
  {
   "cell_type": "code",
   "execution_count": null,
   "metadata": {},
   "outputs": [],
   "source": []
  }
 ],
 "metadata": {
  "kernelspec": {
   "display_name": "Python 3",
   "language": "python",
   "name": "python3"
  },
  "language_info": {
   "codemirror_mode": {
    "name": "ipython",
    "version": 3
   },
   "file_extension": ".py",
   "mimetype": "text/x-python",
   "name": "python",
   "nbconvert_exporter": "python",
   "pygments_lexer": "ipython3",
   "version": "3.8.5"
  }
 },
 "nbformat": 4,
 "nbformat_minor": 4
}
