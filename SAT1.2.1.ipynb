{
 "cells": [
  {
   "cell_type": "code",
   "execution_count": 1,
   "metadata": {},
   "outputs": [],
   "source": [
    "import tensorflow as tf\n",
    "from tensorflow.keras.preprocessing.image import ImageDataGenerator\n",
    "\n",
    "import numpy as np\n",
    "import pandas as pd\n",
    "\n",
    "import matplotlib.pyplot as plt"
   ]
  },
  {
   "cell_type": "code",
   "execution_count": 2,
   "metadata": {},
   "outputs": [],
   "source": [
    "gpus = tf.config.list_physical_devices(device_type='GPU')\n",
    "for gpu in gpus:\n",
    "    tf.config.experimental.set_memory_growth(device=gpu, enable=True)   \n",
    "#GPU内存管理"
   ]
  },
  {
   "cell_type": "code",
   "execution_count": 3,
   "metadata": {},
   "outputs": [],
   "source": [
    "train_dir = 'sat2/train'\n",
    "test_dir = 'sat2/val'\n",
    "\n",
    "im_size = 224\n",
    "batch_size = 16"
   ]
  },
  {
   "cell_type": "code",
   "execution_count": 4,
   "metadata": {},
   "outputs": [],
   "source": [
    "train_images = ImageDataGenerator(rescale = 1/255,horizontal_flip=True)\n",
    "test_images = ImageDataGenerator(rescale = 1/255)\n",
    "#归一化"
   ]
  },
  {
   "cell_type": "code",
   "execution_count": 5,
   "metadata": {
    "scrolled": true
   },
   "outputs": [
    {
     "name": "stdout",
     "output_type": "stream",
     "text": [
      "Found 3150 images belonging to 5 classes.\n"
     ]
    }
   ],
   "source": [
    "train_gen = train_images.flow_from_directory(directory=train_dir,\n",
    "                                             batch_size=batch_size,\n",
    "                                             shuffle=True,\n",
    "                                             target_size=(im_size, im_size),\n",
    "                                             class_mode='categorical')\n",
    "#按路径载入图片，批处理大小，随机，尺寸，读热编码"
   ]
  },
  {
   "cell_type": "code",
   "execution_count": 6,
   "metadata": {},
   "outputs": [
    {
     "name": "stdout",
     "output_type": "stream",
     "text": [
      "Found 350 images belonging to 5 classes.\n"
     ]
    }
   ],
   "source": [
    "val_gen = test_images.flow_from_directory(directory=test_dir,\n",
    "                                          batch_size=batch_size,\n",
    "                                          shuffle=False,\n",
    "                                          target_size=(im_size, im_size),\n",
    "                                          class_mode='categorical')\n",
    "#按路径载入图片，批处理大小，随机，尺寸，读热编码"
   ]
  },
  {
   "cell_type": "code",
   "execution_count": 7,
   "metadata": {},
   "outputs": [],
   "source": [
    "classes = train_gen.class_indices\n",
    "#类别查看"
   ]
  },
  {
   "cell_type": "code",
   "execution_count": 8,
   "metadata": {},
   "outputs": [
    {
     "data": {
      "text/plain": [
       "{'airplane': 0, 'bridge': 1, 'palace': 2, 'ship': 3, 'stadium': 4}"
      ]
     },
     "execution_count": 8,
     "metadata": {},
     "output_type": "execute_result"
    }
   ],
   "source": [
    "classes"
   ]
  },
  {
   "cell_type": "code",
   "execution_count": 9,
   "metadata": {},
   "outputs": [],
   "source": [
    "model = tf.keras.Sequential()"
   ]
  },
  {
   "cell_type": "code",
   "execution_count": 10,
   "metadata": {},
   "outputs": [],
   "source": [
    "model.add(tf.keras.layers.ZeroPadding2D(((1,2),(1,2)),input_shape=(224,224,3)))\n",
    "model.add(tf.keras.layers.Conv2D(filters = 48,\n",
    "                                 kernel_size = (11,11),\n",
    "                                 strides = 4,\n",
    "                                 activation = \"relu\"))\n",
    "model.add(tf.keras.layers.MaxPooling2D(pool_size = (3, 3),strides = 2))\n",
    "model.add(tf.keras.layers.Conv2D(filters = 128,\n",
    "                                 kernel_size = (5,5),\n",
    "                                 padding = 'same',\n",
    "                                 activation = \"relu\"))\n",
    "model.add(tf.keras.layers.MaxPooling2D(pool_size = (3, 3),strides = 2))\n",
    "model.add(tf.keras.layers.Conv2D(filters = 192,\n",
    "                                 kernel_size = (3,3),\n",
    "                                 padding = 'same',\n",
    "                                 activation = \"relu\"))\n",
    "model.add(tf.keras.layers.Conv2D(filters = 192,\n",
    "                                 kernel_size = (3,3),\n",
    "                                 padding = 'same',\n",
    "                                 activation = \"relu\"))\n",
    "model.add(tf.keras.layers.Conv2D(filters = 128,\n",
    "                                 kernel_size = (3,3),\n",
    "                                 padding = 'same',\n",
    "                                 activation = \"relu\"))\n",
    "model.add(tf.keras.layers.MaxPooling2D(pool_size = (3, 3),strides = 2))\n",
    "model.add(tf.keras.layers.Flatten())\n",
    "model.add(tf.keras.layers.Dropout(0.5))\n",
    "model.add(tf.keras.layers.Dense(2048, activation='relu'))\n",
    "model.add(tf.keras.layers.Dropout(0.5))\n",
    "model.add(tf.keras.layers.Dense(2048, activation='relu'))\n",
    "model.add(tf.keras.layers.Dense(5, activation='softmax'))"
   ]
  },
  {
   "cell_type": "code",
   "execution_count": 11,
   "metadata": {},
   "outputs": [
    {
     "name": "stdout",
     "output_type": "stream",
     "text": [
      "Model: \"sequential\"\n",
      "_________________________________________________________________\n",
      "Layer (type)                 Output Shape              Param #   \n",
      "=================================================================\n",
      "zero_padding2d (ZeroPadding2 (None, 227, 227, 3)       0         \n",
      "_________________________________________________________________\n",
      "conv2d (Conv2D)              (None, 55, 55, 48)        17472     \n",
      "_________________________________________________________________\n",
      "max_pooling2d (MaxPooling2D) (None, 27, 27, 48)        0         \n",
      "_________________________________________________________________\n",
      "conv2d_1 (Conv2D)            (None, 27, 27, 128)       153728    \n",
      "_________________________________________________________________\n",
      "max_pooling2d_1 (MaxPooling2 (None, 13, 13, 128)       0         \n",
      "_________________________________________________________________\n",
      "conv2d_2 (Conv2D)            (None, 13, 13, 192)       221376    \n",
      "_________________________________________________________________\n",
      "conv2d_3 (Conv2D)            (None, 13, 13, 192)       331968    \n",
      "_________________________________________________________________\n",
      "conv2d_4 (Conv2D)            (None, 13, 13, 128)       221312    \n",
      "_________________________________________________________________\n",
      "max_pooling2d_2 (MaxPooling2 (None, 6, 6, 128)         0         \n",
      "_________________________________________________________________\n",
      "flatten (Flatten)            (None, 4608)              0         \n",
      "_________________________________________________________________\n",
      "dropout (Dropout)            (None, 4608)              0         \n",
      "_________________________________________________________________\n",
      "dense (Dense)                (None, 2048)              9439232   \n",
      "_________________________________________________________________\n",
      "dropout_1 (Dropout)          (None, 2048)              0         \n",
      "_________________________________________________________________\n",
      "dense_1 (Dense)              (None, 2048)              4196352   \n",
      "_________________________________________________________________\n",
      "dense_2 (Dense)              (None, 5)                 10245     \n",
      "=================================================================\n",
      "Total params: 14,591,685\n",
      "Trainable params: 14,591,685\n",
      "Non-trainable params: 0\n",
      "_________________________________________________________________\n"
     ]
    }
   ],
   "source": [
    "model.summary()"
   ]
  },
  {
   "cell_type": "code",
   "execution_count": 12,
   "metadata": {},
   "outputs": [],
   "source": [
    "model.compile(optimizer=tf.keras.optimizers.Adam(learning_rate=0.0005),\n",
    "              loss='categorical_crossentropy',\n",
    "              metrics=['acc'])\n",
    "#学习率设置"
   ]
  },
  {
   "cell_type": "code",
   "execution_count": 13,
   "metadata": {},
   "outputs": [
    {
     "name": "stdout",
     "output_type": "stream",
     "text": [
      "Epoch 1/15\n",
      "197/197 [==============================] - 8s 27ms/step - loss: 1.5485 - acc: 0.2477 - val_loss: 1.3282 - val_acc: 0.4171\n",
      "Epoch 2/15\n",
      "197/197 [==============================] - 5s 24ms/step - loss: 1.3157 - acc: 0.3827 - val_loss: 1.2053 - val_acc: 0.4000\n",
      "Epoch 3/15\n",
      "197/197 [==============================] - 5s 24ms/step - loss: 1.2264 - acc: 0.4284 - val_loss: 1.1158 - val_acc: 0.4743\n",
      "Epoch 4/15\n",
      "197/197 [==============================] - 5s 25ms/step - loss: 1.0942 - acc: 0.5332 - val_loss: 0.9777 - val_acc: 0.5971\n",
      "Epoch 5/15\n",
      "197/197 [==============================] - 5s 25ms/step - loss: 0.9910 - acc: 0.6019 - val_loss: 0.9252 - val_acc: 0.6314\n",
      "Epoch 6/15\n",
      "197/197 [==============================] - 5s 25ms/step - loss: 0.8401 - acc: 0.6822 - val_loss: 0.8027 - val_acc: 0.7000\n",
      "Epoch 7/15\n",
      "197/197 [==============================] - 5s 25ms/step - loss: 0.7476 - acc: 0.7219 - val_loss: 0.7385 - val_acc: 0.7114\n",
      "Epoch 8/15\n",
      "197/197 [==============================] - 5s 25ms/step - loss: 0.6773 - acc: 0.7466 - val_loss: 0.7200 - val_acc: 0.7114\n",
      "Epoch 9/15\n",
      "197/197 [==============================] - 5s 25ms/step - loss: 0.6645 - acc: 0.7394 - val_loss: 0.6915 - val_acc: 0.7486\n",
      "Epoch 10/15\n",
      "197/197 [==============================] - 5s 25ms/step - loss: 0.5736 - acc: 0.7849 - val_loss: 0.5939 - val_acc: 0.7943\n",
      "Epoch 11/15\n",
      "197/197 [==============================] - 5s 25ms/step - loss: 0.6045 - acc: 0.7699 - val_loss: 0.6190 - val_acc: 0.7571\n",
      "Epoch 12/15\n",
      "197/197 [==============================] - 5s 24ms/step - loss: 0.5429 - acc: 0.7986 - val_loss: 0.6681 - val_acc: 0.7571\n",
      "Epoch 13/15\n",
      "197/197 [==============================] - 5s 24ms/step - loss: 0.5548 - acc: 0.7951 - val_loss: 0.6333 - val_acc: 0.7543\n",
      "Epoch 14/15\n",
      "197/197 [==============================] - 5s 25ms/step - loss: 0.4441 - acc: 0.8356 - val_loss: 0.5610 - val_acc: 0.8086\n",
      "Epoch 15/15\n",
      "197/197 [==============================] - 5s 25ms/step - loss: 0.4426 - acc: 0.8357 - val_loss: 0.6010 - val_acc: 0.7629\n"
     ]
    }
   ],
   "source": [
    "history = model.fit(train_gen,epochs=15,validation_data=val_gen)"
   ]
  },
  {
   "cell_type": "code",
   "execution_count": 14,
   "metadata": {},
   "outputs": [
    {
     "data": {
      "text/plain": [
       "[<matplotlib.lines.Line2D at 0x7f92ec552d60>]"
      ]
     },
     "execution_count": 14,
     "metadata": {},
     "output_type": "execute_result"
    },
    {
     "data": {
      "image/png": "[encoded data removed]",
      "text/plain": [
       "<Figure size 432x288 with 1 Axes>"
      ]
     },
     "metadata": {
      "needs_background": "light"
     },
     "output_type": "display_data"
    }
   ],
   "source": [
    "plt.plot(history.epoch,history.history.get('acc'))\n",
    "plt.plot(history.epoch,history.history.get('val_acc'))"
   ]
  },
  {
   "cell_type": "code",
   "execution_count": 15,
   "metadata": {},
   "outputs": [
    {
     "name": "stdout",
     "output_type": "stream",
     "text": [
      "22/22 [==============================] - 0s 20ms/step - loss: 0.6010 - acc: 0.7629\n"
     ]
    },
    {
     "data": {
      "text/plain": [
       "[0.6009547710418701, 0.7628571391105652]"
      ]
     },
     "execution_count": 15,
     "metadata": {},
     "output_type": "execute_result"
    }
   ],
   "source": [
    "model.evaluate(val_gen)"
   ]
  },
  {
   "cell_type": "code",
   "execution_count": 16,
   "metadata": {},
   "outputs": [],
   "source": [
    "# 保存模型\n",
    "model.save('sat2.h5')"
   ]
  }
 ],
 "metadata": {
  "kernelspec": {
   "display_name": "Python 3",
   "language": "python",
   "name": "python3"
  },
  "language_info": {
   "codemirror_mode": {
    "name": "ipython",
    "version": 3
   },
   "file_extension": ".py",
   "mimetype": "text/x-python",
   "name": "python",
   "nbconvert_exporter": "python",
   "pygments_lexer": "ipython3",
   "version": "3.8.5"
  }
 },
 "nbformat": 4,
 "nbformat_minor": 4
}
