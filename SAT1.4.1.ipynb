{
 "cells": [
  {
   "cell_type": "code",
   "execution_count": 1,
   "metadata": {},
   "outputs": [],
   "source": [
    "import tensorflow as tf\n",
    "from tensorflow.keras.preprocessing.image import ImageDataGenerator\n",
    "\n",
    "import numpy as np\n",
    "import pandas as pd\n",
    "\n",
    "import matplotlib.pyplot as plt"
   ]
  },
  {
   "cell_type": "code",
   "execution_count": 2,
   "metadata": {},
   "outputs": [],
   "source": [
    "gpus = tf.config.list_physical_devices(device_type='GPU')\n",
    "for gpu in gpus:\n",
    "    tf.config.experimental.set_memory_growth(device=gpu, enable=True)   \n",
    "#GPU内存管理"
   ]
  },
  {
   "cell_type": "code",
   "execution_count": 3,
   "metadata": {},
   "outputs": [],
   "source": [
    "train_dir = 'sat2/train'\n",
    "test_dir = 'sat2/val'\n",
    "\n",
    "im_size = 224\n",
    "batch_size = 32"
   ]
  },
  {
   "cell_type": "code",
   "execution_count": 4,
   "metadata": {},
   "outputs": [],
   "source": [
    "train_images = ImageDataGenerator(rescale = 1/255,horizontal_flip=True)\n",
    "test_images = ImageDataGenerator(rescale = 1/255)\n",
    "#归一化"
   ]
  },
  {
   "cell_type": "code",
   "execution_count": 5,
   "metadata": {
    "scrolled": true
   },
   "outputs": [
    {
     "name": "stdout",
     "output_type": "stream",
     "text": [
      "Found 3150 images belonging to 5 classes.\n"
     ]
    }
   ],
   "source": [
    "train_gen = train_images.flow_from_directory(directory=train_dir,\n",
    "                                             batch_size=batch_size,\n",
    "                                             shuffle=True,\n",
    "                                             target_size=(im_size, im_size),\n",
    "                                             class_mode='categorical')\n",
    "#按路径载入图片，批处理大小，随机，尺寸，读热编码"
   ]
  },
  {
   "cell_type": "code",
   "execution_count": 6,
   "metadata": {},
   "outputs": [
    {
     "name": "stdout",
     "output_type": "stream",
     "text": [
      "Found 350 images belonging to 5 classes.\n"
     ]
    }
   ],
   "source": [
    "val_gen = test_images.flow_from_directory(directory=test_dir,\n",
    "                                          batch_size=batch_size,\n",
    "                                          shuffle=False,\n",
    "                                          target_size=(im_size, im_size),\n",
    "                                          class_mode='categorical')\n",
    "#按路径载入图片，批处理大小，随机，尺寸，读热编码"
   ]
  },
  {
   "cell_type": "code",
   "execution_count": 7,
   "metadata": {},
   "outputs": [],
   "source": [
    "def Inception (ch1x1, ch3x3red, ch3x3, ch5x5red, ch5x5, pool_proj, input_):\n",
    "    inputs = tf.keras.layers.Input(shape=input_.shape[1:])\n",
    "    x1 = tf.keras.layers.Conv2D(ch1x1, kernel_size=1, activation=\"relu\")(inputs)\n",
    "    \n",
    "    x21 = tf.keras.layers.Conv2D(ch3x3red, kernel_size=1, activation=\"relu\")(inputs)\n",
    "    x22 =  tf.keras.layers.Conv2D(ch3x3, kernel_size=3, padding=\"same\", activation=\"relu\")(x21)\n",
    "    \n",
    "    x31 = tf.keras.layers.Conv2D(ch5x5red, kernel_size=1, activation=\"relu\")(inputs)\n",
    "    x32 = tf.keras.layers.Conv2D(ch5x5, kernel_size=5, padding=\"same\", activation=\"relu\")(x31)\n",
    "    \n",
    "    x41 = tf.keras.layers.MaxPool2D(pool_size=3, strides=1, padding=\"same\")(inputs) \n",
    "    x42 = tf.keras.layers.Conv2D(pool_proj, kernel_size=1, activation=\"relu\")(x41)\n",
    "    outputs = tf.concat((x1, x22, x32, x42),axis=-1)\n",
    "    \n",
    "    return tf.keras.Model(inputs=inputs, outputs=outputs)"
   ]
  },
  {
   "cell_type": "code",
   "execution_count": 8,
   "metadata": {},
   "outputs": [],
   "source": [
    "def InceptionAux (num_classes, input_):\n",
    "    inputs = tf.keras.layers.Input(shape=input_.shape[1:])\n",
    "    x = tf.keras.layers.AvgPool2D(pool_size=5, strides=3)(inputs)\n",
    "    x = tf.keras.layers.Conv2D(128, kernel_size=1, activation=\"relu\")(x)\n",
    "    \n",
    "    x = tf.keras.layers.Flatten()(x)\n",
    "    x = tf.keras.layers.Dropout(rate=0.7)(x)\n",
    "    x = tf.keras.layers.Dense(1024, activation=\"relu\")(x)\n",
    "    x = tf.keras.layers.Dropout(rate=0.7)(x)\n",
    "    x = tf.keras.layers.Dense(num_classes)(x)\n",
    "    \n",
    "    return tf.keras.Model(inputs=inputs, outputs=x)"
   ]
  },
  {
   "cell_type": "code",
   "execution_count": 9,
   "metadata": {},
   "outputs": [],
   "source": [
    "def GoogLeNet():\n",
    "    input_image = tf.keras.layers.Input(shape=(224, 224, 3))\n",
    "    x = tf.keras.layers.Conv2D(64, kernel_size=7, strides=2, padding=\"same\", activation=\"relu\")(input_image)\n",
    "    x = tf.keras.layers.MaxPool2D(pool_size=3, strides=2, padding=\"same\")(x)\n",
    "    x = tf.keras.layers.Conv2D(64, kernel_size=1, activation=\"relu\")(x)\n",
    "    x = tf.keras.layers.Conv2D(192, kernel_size=3, padding=\"same\", activation=\"relu\")(x)\n",
    "    x = tf.keras.layers.MaxPool2D(pool_size=3, strides=2, padding=\"same\")(x)\n",
    "    \n",
    "    #3a\n",
    "    x = Inception(64, 96, 128, 16, 32, 32, x)(x)\n",
    "    #3b\n",
    "    x = Inception(128, 128, 192, 32, 96, 64, x)(x)\n",
    "\n",
    "    x = tf.keras.layers.MaxPool2D(pool_size=3, strides=2, padding=\"same\")(x)\n",
    "    #4a\n",
    "    x = Inception(192, 96, 208, 16, 48, 64, x)(x)\n",
    "    #aux1\n",
    "    aux11 = InceptionAux(5,x)(x)\n",
    "    aux1 = tf.keras.layers.Softmax(name=\"aux_1\")(aux11)\n",
    "    #4b\n",
    "    x = Inception(160, 112, 224, 24, 64, 64, x)(x)\n",
    "    #4c\n",
    "    x = Inception(128, 128, 256, 24, 64, 64, x)(x)\n",
    "    #4d\n",
    "    x = Inception(112, 144, 288, 32, 64, 64, x)(x)\n",
    "    #aux2\n",
    "    aux22 = InceptionAux(5,x)(x)\n",
    "    aux2 = tf.keras.layers.Softmax(name=\"aux_2\")(aux22)\n",
    "    #4e\n",
    "    x = Inception(256, 160, 320, 32, 128, 128, x)(x)\n",
    "    x = tf.keras.layers.MaxPool2D(pool_size=3, strides=2, padding=\"same\")(x)\n",
    "    #5a\n",
    "    x = Inception(256, 160, 320, 32, 128, 128, x)(x)\n",
    "    #5b\n",
    "    x = Inception(384, 192, 384, 48, 128, 128, x)(x)\n",
    "    x = tf.keras.layers.AvgPool2D(pool_size=7, strides=1)(x)\n",
    "\n",
    "    x = tf.keras.layers.Flatten()(x)\n",
    "\n",
    "    x = tf.keras.layers.Dropout(rate=0.4)(x)\n",
    "    x = tf.keras.layers.Dense(5)(x)\n",
    "    #aux3\n",
    "    aux3 = tf.keras.layers.Softmax(name=\"aux_3\")(x)\n",
    "\n",
    "    model = tf.keras.models.Model(inputs=input_image, outputs=[aux1, aux2, aux3])\n",
    "#     model = tf.keras.models.Model(inputs=input_image, outputs=aux3)\n",
    "    return model"
   ]
  },
  {
   "cell_type": "code",
   "execution_count": 10,
   "metadata": {},
   "outputs": [],
   "source": [
    "model = GoogLeNet()"
   ]
  },
  {
   "cell_type": "code",
   "execution_count": 11,
   "metadata": {},
   "outputs": [
    {
     "name": "stdout",
     "output_type": "stream",
     "text": [
      "Model: \"model_11\"\n",
      "__________________________________________________________________________________________________\n",
      "Layer (type)                    Output Shape         Param #     Connected to                     \n",
      "==================================================================================================\n",
      "input_1 (InputLayer)            [(None, 224, 224, 3) 0                                            \n",
      "__________________________________________________________________________________________________\n",
      "conv2d (Conv2D)                 (None, 112, 112, 64) 9472        input_1[0][0]                    \n",
      "__________________________________________________________________________________________________\n",
      "max_pooling2d (MaxPooling2D)    (None, 56, 56, 64)   0           conv2d[0][0]                     \n",
      "__________________________________________________________________________________________________\n",
      "conv2d_1 (Conv2D)               (None, 56, 56, 64)   4160        max_pooling2d[0][0]              \n",
      "__________________________________________________________________________________________________\n",
      "conv2d_2 (Conv2D)               (None, 56, 56, 192)  110784      conv2d_1[0][0]                   \n",
      "__________________________________________________________________________________________________\n",
      "max_pooling2d_1 (MaxPooling2D)  (None, 28, 28, 192)  0           conv2d_2[0][0]                   \n",
      "__________________________________________________________________________________________________\n",
      "model (Functional)              (None, 28, 28, 256)  163696      max_pooling2d_1[0][0]            \n",
      "__________________________________________________________________________________________________\n",
      "model_1 (Functional)            (None, 28, 28, 480)  388736      model[0][0]                      \n",
      "__________________________________________________________________________________________________\n",
      "max_pooling2d_4 (MaxPooling2D)  (None, 14, 14, 480)  0           model_1[0][0]                    \n",
      "__________________________________________________________________________________________________\n",
      "model_2 (Functional)            (None, 14, 14, 512)  376176      max_pooling2d_4[0][0]            \n",
      "__________________________________________________________________________________________________\n",
      "model_4 (Functional)            (None, 14, 14, 512)  449160      model_2[0][0]                    \n",
      "__________________________________________________________________________________________________\n",
      "model_5 (Functional)            (None, 14, 14, 512)  510104      model_4[0][0]                    \n",
      "__________________________________________________________________________________________________\n",
      "model_6 (Functional)            (None, 14, 14, 528)  605376      model_5[0][0]                    \n",
      "__________________________________________________________________________________________________\n",
      "model_8 (Functional)            (None, 14, 14, 832)  868352      model_6[0][0]                    \n",
      "__________________________________________________________________________________________________\n",
      "max_pooling2d_10 (MaxPooling2D) (None, 7, 7, 832)    0           model_8[0][0]                    \n",
      "__________________________________________________________________________________________________\n",
      "model_9 (Functional)            (None, 7, 7, 832)    1043456     max_pooling2d_10[0][0]           \n",
      "__________________________________________________________________________________________________\n",
      "model_10 (Functional)           (None, 7, 7, 1024)   1444080     model_9[0][0]                    \n",
      "__________________________________________________________________________________________________\n",
      "average_pooling2d_2 (AveragePoo (None, 1, 1, 1024)   0           model_10[0][0]                   \n",
      "__________________________________________________________________________________________________\n",
      "flatten_2 (Flatten)             (None, 1024)         0           average_pooling2d_2[0][0]        \n",
      "__________________________________________________________________________________________________\n",
      "dropout_4 (Dropout)             (None, 1024)         0           flatten_2[0][0]                  \n",
      "__________________________________________________________________________________________________\n",
      "model_3 (Functional)            (None, 5)            2168965     model_2[0][0]                    \n",
      "__________________________________________________________________________________________________\n",
      "model_7 (Functional)            (None, 5)            2171013     model_6[0][0]                    \n",
      "__________________________________________________________________________________________________\n",
      "dense_4 (Dense)                 (None, 5)            5125        dropout_4[0][0]                  \n",
      "__________________________________________________________________________________________________\n",
      "aux_1 (Softmax)                 (None, 5)            0           model_3[0][0]                    \n",
      "__________________________________________________________________________________________________\n",
      "aux_2 (Softmax)                 (None, 5)            0           model_7[0][0]                    \n",
      "__________________________________________________________________________________________________\n",
      "aux_3 (Softmax)                 (None, 5)            0           dense_4[0][0]                    \n",
      "==================================================================================================\n",
      "Total params: 10,318,655\n",
      "Trainable params: 10,318,655\n",
      "Non-trainable params: 0\n",
      "__________________________________________________________________________________________________\n"
     ]
    }
   ],
   "source": [
    "model.summary()"
   ]
  },
  {
   "cell_type": "code",
   "execution_count": 12,
   "metadata": {},
   "outputs": [],
   "source": [
    "model.compile(optimizer=tf.keras.optimizers.Adam(learning_rate=0.0005),\n",
    "              loss='categorical_crossentropy',\n",
    "              metrics=['acc'])\n",
    "#学习率设置"
   ]
  },
  {
   "cell_type": "code",
   "execution_count": 13,
   "metadata": {},
   "outputs": [
    {
     "name": "stdout",
     "output_type": "stream",
     "text": [
      "Epoch 1/20\n",
      "99/99 [==============================] - 12s 70ms/step - loss: 4.7388 - aux_1_loss: 1.5717 - aux_2_loss: 1.5815 - aux_3_loss: 1.5857 - aux_1_acc: 0.2274 - aux_2_acc: 0.2195 - aux_3_acc: 0.2041 - val_loss: 3.7580 - val_aux_1_loss: 1.2492 - val_aux_2_loss: 1.2531 - val_aux_3_loss: 1.2557 - val_aux_1_acc: 0.4657 - val_aux_2_acc: 0.4457 - val_aux_3_acc: 0.4229\n",
      "Epoch 2/20\n",
      "99/99 [==============================] - 5s 51ms/step - loss: 3.8507 - aux_1_loss: 1.2815 - aux_2_loss: 1.2896 - aux_3_loss: 1.2796 - aux_1_acc: 0.3853 - aux_2_acc: 0.3747 - aux_3_acc: 0.3706 - val_loss: 3.7841 - val_aux_1_loss: 1.2400 - val_aux_2_loss: 1.2657 - val_aux_3_loss: 1.2784 - val_aux_1_acc: 0.4257 - val_aux_2_acc: 0.4086 - val_aux_3_acc: 0.3886\n",
      "Epoch 3/20\n",
      "99/99 [==============================] - 5s 51ms/step - loss: 3.7424 - aux_1_loss: 1.2328 - aux_2_loss: 1.2562 - aux_3_loss: 1.2534 - aux_1_acc: 0.4059 - aux_2_acc: 0.3904 - aux_3_acc: 0.3893 - val_loss: 3.7003 - val_aux_1_loss: 1.2147 - val_aux_2_loss: 1.2281 - val_aux_3_loss: 1.2576 - val_aux_1_acc: 0.4400 - val_aux_2_acc: 0.4000 - val_aux_3_acc: 0.3800\n",
      "Epoch 4/20\n",
      "99/99 [==============================] - 5s 50ms/step - loss: 3.7260 - aux_1_loss: 1.2137 - aux_2_loss: 1.2452 - aux_3_loss: 1.2672 - aux_1_acc: 0.4279 - aux_2_acc: 0.3974 - aux_3_acc: 0.3682 - val_loss: 3.4652 - val_aux_1_loss: 1.1266 - val_aux_2_loss: 1.1544 - val_aux_3_loss: 1.1842 - val_aux_1_acc: 0.4886 - val_aux_2_acc: 0.4429 - val_aux_3_acc: 0.3971\n",
      "Epoch 5/20\n",
      "99/99 [==============================] - 5s 51ms/step - loss: 3.5130 - aux_1_loss: 1.1445 - aux_2_loss: 1.1705 - aux_3_loss: 1.1980 - aux_1_acc: 0.4807 - aux_2_acc: 0.4516 - aux_3_acc: 0.4031 - val_loss: 3.4835 - val_aux_1_loss: 1.1264 - val_aux_2_loss: 1.1554 - val_aux_3_loss: 1.2017 - val_aux_1_acc: 0.4514 - val_aux_2_acc: 0.4486 - val_aux_3_acc: 0.4029\n",
      "Epoch 6/20\n",
      "99/99 [==============================] - 5s 50ms/step - loss: 3.3719 - aux_1_loss: 1.0419 - aux_2_loss: 1.1464 - aux_3_loss: 1.1837 - aux_1_acc: 0.5669 - aux_2_acc: 0.4433 - aux_3_acc: 0.4167 - val_loss: 2.6125 - val_aux_1_loss: 0.7977 - val_aux_2_loss: 0.8646 - val_aux_3_loss: 0.9502 - val_aux_1_acc: 0.6771 - val_aux_2_acc: 0.6657 - val_aux_3_acc: 0.5914\n",
      "Epoch 7/20\n",
      "99/99 [==============================] - 5s 51ms/step - loss: 2.8071 - aux_1_loss: 0.8995 - aux_2_loss: 0.9291 - aux_3_loss: 0.9785 - aux_1_acc: 0.6404 - aux_2_acc: 0.6325 - aux_3_acc: 0.6056 - val_loss: 2.5787 - val_aux_1_loss: 0.7841 - val_aux_2_loss: 0.8424 - val_aux_3_loss: 0.9522 - val_aux_1_acc: 0.7086 - val_aux_2_acc: 0.6714 - val_aux_3_acc: 0.6371\n",
      "Epoch 8/20\n",
      "99/99 [==============================] - 5s 51ms/step - loss: 2.5757 - aux_1_loss: 0.8280 - aux_2_loss: 0.8560 - aux_3_loss: 0.8918 - aux_1_acc: 0.6735 - aux_2_acc: 0.6932 - aux_3_acc: 0.6613 - val_loss: 1.8965 - val_aux_1_loss: 0.6125 - val_aux_2_loss: 0.6196 - val_aux_3_loss: 0.6644 - val_aux_1_acc: 0.7543 - val_aux_2_acc: 0.7686 - val_aux_3_acc: 0.7714\n",
      "Epoch 9/20\n",
      "99/99 [==============================] - 5s 52ms/step - loss: 2.0539 - aux_1_loss: 0.7100 - aux_2_loss: 0.6643 - aux_3_loss: 0.6796 - aux_1_acc: 0.7298 - aux_2_acc: 0.7674 - aux_3_acc: 0.7555 - val_loss: 2.8638 - val_aux_1_loss: 0.9851 - val_aux_2_loss: 0.9340 - val_aux_3_loss: 0.9447 - val_aux_1_acc: 0.6257 - val_aux_2_acc: 0.6371 - val_aux_3_acc: 0.6457\n",
      "Epoch 10/20\n",
      "99/99 [==============================] - 5s 52ms/step - loss: 1.9460 - aux_1_loss: 0.6731 - aux_2_loss: 0.6420 - aux_3_loss: 0.6309 - aux_1_acc: 0.7422 - aux_2_acc: 0.7629 - aux_3_acc: 0.7706 - val_loss: 1.8713 - val_aux_1_loss: 0.5799 - val_aux_2_loss: 0.6134 - val_aux_3_loss: 0.6780 - val_aux_1_acc: 0.7714 - val_aux_2_acc: 0.7914 - val_aux_3_acc: 0.7543\n",
      "Epoch 11/20\n",
      "99/99 [==============================] - 5s 51ms/step - loss: 1.8272 - aux_1_loss: 0.6394 - aux_2_loss: 0.5884 - aux_3_loss: 0.5994 - aux_1_acc: 0.7606 - aux_2_acc: 0.7940 - aux_3_acc: 0.7837 - val_loss: 1.8349 - val_aux_1_loss: 0.5677 - val_aux_2_loss: 0.6028 - val_aux_3_loss: 0.6644 - val_aux_1_acc: 0.7971 - val_aux_2_acc: 0.8029 - val_aux_3_acc: 0.7743\n",
      "Epoch 12/20\n",
      "99/99 [==============================] - 5s 49ms/step - loss: 1.5562 - aux_1_loss: 0.5528 - aux_2_loss: 0.5032 - aux_3_loss: 0.5001 - aux_1_acc: 0.7942 - aux_2_acc: 0.8182 - aux_3_acc: 0.8198 - val_loss: 1.5192 - val_aux_1_loss: 0.4648 - val_aux_2_loss: 0.5037 - val_aux_3_loss: 0.5507 - val_aux_1_acc: 0.8486 - val_aux_2_acc: 0.8429 - val_aux_3_acc: 0.8171\n",
      "Epoch 13/20\n",
      "99/99 [==============================] - 5s 48ms/step - loss: 1.3666 - aux_1_loss: 0.5079 - aux_2_loss: 0.4326 - aux_3_loss: 0.4262 - aux_1_acc: 0.8178 - aux_2_acc: 0.8561 - aux_3_acc: 0.8502 - val_loss: 1.3419 - val_aux_1_loss: 0.4321 - val_aux_2_loss: 0.4323 - val_aux_3_loss: 0.4775 - val_aux_1_acc: 0.8429 - val_aux_2_acc: 0.8600 - val_aux_3_acc: 0.8486\n",
      "Epoch 14/20\n",
      "99/99 [==============================] - 5s 48ms/step - loss: 1.2212 - aux_1_loss: 0.4495 - aux_2_loss: 0.3910 - aux_3_loss: 0.3807 - aux_1_acc: 0.8412 - aux_2_acc: 0.8659 - aux_3_acc: 0.8668 - val_loss: 1.1511 - val_aux_1_loss: 0.4001 - val_aux_2_loss: 0.3715 - val_aux_3_loss: 0.3795 - val_aux_1_acc: 0.8514 - val_aux_2_acc: 0.8743 - val_aux_3_acc: 0.8714\n",
      "Epoch 15/20\n",
      "99/99 [==============================] - 5s 50ms/step - loss: 1.1597 - aux_1_loss: 0.4350 - aux_2_loss: 0.3712 - aux_3_loss: 0.3535 - aux_1_acc: 0.8514 - aux_2_acc: 0.8732 - aux_3_acc: 0.8726 - val_loss: 1.1095 - val_aux_1_loss: 0.3936 - val_aux_2_loss: 0.3435 - val_aux_3_loss: 0.3724 - val_aux_1_acc: 0.8571 - val_aux_2_acc: 0.8914 - val_aux_3_acc: 0.8800\n",
      "Epoch 16/20\n",
      "99/99 [==============================] - 5s 48ms/step - loss: 1.0379 - aux_1_loss: 0.3860 - aux_2_loss: 0.3345 - aux_3_loss: 0.3173 - aux_1_acc: 0.8620 - aux_2_acc: 0.8882 - aux_3_acc: 0.8933 - val_loss: 1.0656 - val_aux_1_loss: 0.3731 - val_aux_2_loss: 0.3421 - val_aux_3_loss: 0.3504 - val_aux_1_acc: 0.8743 - val_aux_2_acc: 0.8686 - val_aux_3_acc: 0.8829\n",
      "Epoch 17/20\n",
      "99/99 [==============================] - 5s 48ms/step - loss: 1.0243 - aux_1_loss: 0.3854 - aux_2_loss: 0.3248 - aux_3_loss: 0.3142 - aux_1_acc: 0.8664 - aux_2_acc: 0.8973 - aux_3_acc: 0.8919 - val_loss: 1.1732 - val_aux_1_loss: 0.4353 - val_aux_2_loss: 0.3675 - val_aux_3_loss: 0.3704 - val_aux_1_acc: 0.8514 - val_aux_2_acc: 0.8743 - val_aux_3_acc: 0.8800\n",
      "Epoch 18/20\n",
      "99/99 [==============================] - 5s 48ms/step - loss: 1.0823 - aux_1_loss: 0.4202 - aux_2_loss: 0.3408 - aux_3_loss: 0.3213 - aux_1_acc: 0.8542 - aux_2_acc: 0.8909 - aux_3_acc: 0.8913 - val_loss: 0.9446 - val_aux_1_loss: 0.3305 - val_aux_2_loss: 0.2949 - val_aux_3_loss: 0.3192 - val_aux_1_acc: 0.8943 - val_aux_2_acc: 0.8857 - val_aux_3_acc: 0.8914\n",
      "Epoch 19/20\n",
      "99/99 [==============================] - 5s 48ms/step - loss: 0.9642 - aux_1_loss: 0.3791 - aux_2_loss: 0.2989 - aux_3_loss: 0.2862 - aux_1_acc: 0.8724 - aux_2_acc: 0.9117 - aux_3_acc: 0.9057 - val_loss: 0.8487 - val_aux_1_loss: 0.3175 - val_aux_2_loss: 0.2604 - val_aux_3_loss: 0.2708 - val_aux_1_acc: 0.8943 - val_aux_2_acc: 0.9229 - val_aux_3_acc: 0.9086\n",
      "Epoch 20/20\n",
      "99/99 [==============================] - 5s 49ms/step - loss: 0.8453 - aux_1_loss: 0.3251 - aux_2_loss: 0.2735 - aux_3_loss: 0.2467 - aux_1_acc: 0.8885 - aux_2_acc: 0.9086 - aux_3_acc: 0.9095 - val_loss: 1.0314 - val_aux_1_loss: 0.3490 - val_aux_2_loss: 0.3243 - val_aux_3_loss: 0.3581 - val_aux_1_acc: 0.8971 - val_aux_2_acc: 0.9000 - val_aux_3_acc: 0.8857\n"
     ]
    }
   ],
   "source": [
    "history = model.fit(train_gen,epochs=20,validation_data=val_gen)"
   ]
  },
  {
   "cell_type": "code",
   "execution_count": 14,
   "metadata": {},
   "outputs": [
    {
     "data": {
      "text/plain": [
       "[<matplotlib.lines.Line2D at 0x7faf70252280>]"
      ]
     },
     "execution_count": 14,
     "metadata": {},
     "output_type": "execute_result"
    },
    {
     "data": {
      "image/png": "[encoded data removed]",
      "text/plain": [
       "<Figure size 432x288 with 1 Axes>"
      ]
     },
     "metadata": {
      "needs_background": "light"
     },
     "output_type": "display_data"
    }
   ],
   "source": [
    "plt.plot(history.epoch,history.history.get('aux_3_acc'))\n",
    "plt.plot(history.epoch,history.history.get('val_aux_3_acc'))"
   ]
  },
  {
   "cell_type": "code",
   "execution_count": 15,
   "metadata": {},
   "outputs": [
    {
     "name": "stdout",
     "output_type": "stream",
     "text": [
      "11/11 [==============================] - 0s 41ms/step - loss: 1.0314 - aux_1_loss: 0.3490 - aux_2_loss: 0.3243 - aux_3_loss: 0.3581 - aux_1_acc: 0.8971 - aux_2_acc: 0.9000 - aux_3_acc: 0.8857\n"
     ]
    },
    {
     "data": {
      "text/plain": [
       "[1.0314477682113647,\n",
       " 0.34904995560646057,\n",
       " 0.32426247000694275,\n",
       " 0.35813525319099426,\n",
       " 0.8971428275108337,\n",
       " 0.8999999761581421,\n",
       " 0.8857142925262451]"
      ]
     },
     "execution_count": 15,
     "metadata": {},
     "output_type": "execute_result"
    }
   ],
   "source": [
    "model.evaluate(val_gen)"
   ]
  },
  {
   "cell_type": "code",
   "execution_count": 16,
   "metadata": {},
   "outputs": [],
   "source": [
    "# 保存模型\n",
    "model.save('sat75.h5')"
   ]
  },
  {
   "cell_type": "code",
   "execution_count": null,
   "metadata": {},
   "outputs": [],
   "source": []
  }
 ],
 "metadata": {
  "kernelspec": {
   "display_name": "Python 3",
   "language": "python",
   "name": "python3"
  },
  "language_info": {
   "codemirror_mode": {
    "name": "ipython",
    "version": 3
   },
   "file_extension": ".py",
   "mimetype": "text/x-python",
   "name": "python",
   "nbconvert_exporter": "python",
   "pygments_lexer": "ipython3",
   "version": "3.8.5"
  }
 },
 "nbformat": 4,
 "nbformat_minor": 4
}
