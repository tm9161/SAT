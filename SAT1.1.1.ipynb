{
 "cells": [
  {
   "cell_type": "code",
   "execution_count": 1,
   "metadata": {},
   "outputs": [],
   "source": [
    "import tensorflow as tf\n",
    "\n",
    "import numpy as np\n",
    "import pandas as pd\n",
    "\n",
    "import matplotlib.pyplot as plt"
   ]
  },
  {
   "cell_type": "code",
   "execution_count": 2,
   "metadata": {},
   "outputs": [],
   "source": [
    "train =pd.read_csv('sat/train.csv')\n",
    "test = pd.read_csv('sat/test.csv')\n",
    "\n",
    "#从csv文件中载入数据"
   ]
  },
  {
   "cell_type": "code",
   "execution_count": 3,
   "metadata": {},
   "outputs": [],
   "source": [
    "train = np.array(train)\n",
    "test = np.array(test)\n",
    "#转换数组"
   ]
  },
  {
   "cell_type": "code",
   "execution_count": 4,
   "metadata": {},
   "outputs": [],
   "source": [
    "train_images=train[:,1:]\n",
    "test_images=test[:,1:]\n",
    "\n",
    "#提取图片信息 28*28"
   ]
  },
  {
   "cell_type": "code",
   "execution_count": 5,
   "metadata": {},
   "outputs": [],
   "source": [
    "train_labels=train[:,:1]\n",
    "test_labels=test[:,:1]\n",
    "\n",
    "#提取标签信息 1"
   ]
  },
  {
   "cell_type": "code",
   "execution_count": 6,
   "metadata": {},
   "outputs": [
    {
     "data": {
      "text/plain": [
       "(68161, 784)"
      ]
     },
     "execution_count": 6,
     "metadata": {},
     "output_type": "execute_result"
    }
   ],
   "source": [
    "train_images.shape"
   ]
  },
  {
   "cell_type": "code",
   "execution_count": 7,
   "metadata": {},
   "outputs": [
    {
     "data": {
      "text/plain": [
       "(68161, 1)"
      ]
     },
     "execution_count": 7,
     "metadata": {},
     "output_type": "execute_result"
    }
   ],
   "source": [
    "train_labels.shape"
   ]
  },
  {
   "cell_type": "code",
   "execution_count": 8,
   "metadata": {},
   "outputs": [],
   "source": [
    "train_labels = train_labels.reshape(68161)\n",
    "test_labels = test_labels.reshape(8529)\n",
    "\n",
    "train_images = train_images.reshape(68161,28,28)\n",
    "test_images = test_images.reshape(8529,28,28)\n",
    "\n",
    "#初始化维度"
   ]
  },
  {
   "cell_type": "code",
   "execution_count": 9,
   "metadata": {},
   "outputs": [
    {
     "data": {
      "text/plain": [
       "(68161, 28, 28)"
      ]
     },
     "execution_count": 9,
     "metadata": {},
     "output_type": "execute_result"
    }
   ],
   "source": [
    "train_images.shape"
   ]
  },
  {
   "cell_type": "code",
   "execution_count": 10,
   "metadata": {},
   "outputs": [
    {
     "data": {
      "text/plain": [
       "(68161,)"
      ]
     },
     "execution_count": 10,
     "metadata": {},
     "output_type": "execute_result"
    }
   ],
   "source": [
    "train_labels.shape"
   ]
  },
  {
   "cell_type": "code",
   "execution_count": 11,
   "metadata": {},
   "outputs": [
    {
     "data": {
      "text/plain": [
       "<matplotlib.image.AxesImage at 0x7f50861de640>"
      ]
     },
     "execution_count": 11,
     "metadata": {},
     "output_type": "execute_result"
    },
    {
     "data": {
      "image/png": "[encoded data removed]",
      "text/plain": [
       "<Figure size 432x288 with 1 Axes>"
      ]
     },
     "metadata": {
      "needs_background": "light"
     },
     "output_type": "display_data"
    }
   ],
   "source": [
    "plt.imshow(train_images[100])"
   ]
  },
  {
   "cell_type": "code",
   "execution_count": 12,
   "metadata": {},
   "outputs": [],
   "source": [
    "train_images = train_images.reshape(68161,28,28,1)\n",
    "test_images = test_images.reshape(8529,28,28,1)\n",
    "#增加维度，用于卷积操作"
   ]
  },
  {
   "cell_type": "code",
   "execution_count": 13,
   "metadata": {},
   "outputs": [],
   "source": [
    "train_images = train_images / 255\n",
    "test_images = test_images/ 255\n",
    "#归一化"
   ]
  },
  {
   "cell_type": "code",
   "execution_count": 14,
   "metadata": {},
   "outputs": [],
   "source": [
    "train_labels = np.array(pd.get_dummies(train_labels))\n",
    "test_labels = np.array(pd.get_dummies(test_labels))\n",
    "#独热编码"
   ]
  },
  {
   "cell_type": "code",
   "execution_count": 15,
   "metadata": {},
   "outputs": [],
   "source": [
    "model = tf.keras.Sequential()"
   ]
  },
  {
   "cell_type": "code",
   "execution_count": 16,
   "metadata": {},
   "outputs": [],
   "source": [
    "model.add(tf.keras.layers.Conv2D(filters = 6,kernel_size = (5,5),input_shape=(28,28,1),padding = 'same',activation = \"sigmoid\"))\n",
    "model.add(tf.keras.layers.AveragePooling2D(pool_size = (2, 2)))\n",
    "model.add(tf.keras.layers.Conv2D(filters = 16,kernel_size = (5,5),activation = \"sigmoid\"))\n",
    "model.add(tf.keras.layers.AveragePooling2D(pool_size = (2, 2)))\n",
    "model.add(tf.keras.layers.Conv2D(filters = 120,kernel_size = (5,5),activation = \"sigmoid\"))\n",
    "model.add(tf.keras.layers.Flatten())\n",
    "model.add(tf.keras.layers.Dense(84, activation='sigmoid'))\n",
    "model.add(tf.keras.layers.Dense(10, activation='softmax'))"
   ]
  },
  {
   "cell_type": "code",
   "execution_count": 17,
   "metadata": {},
   "outputs": [
    {
     "name": "stdout",
     "output_type": "stream",
     "text": [
      "Model: \"sequential\"\n",
      "_________________________________________________________________\n",
      "Layer (type)                 Output Shape              Param #   \n",
      "=================================================================\n",
      "conv2d (Conv2D)              (None, 28, 28, 6)         156       \n",
      "_________________________________________________________________\n",
      "average_pooling2d (AveragePo (None, 14, 14, 6)         0         \n",
      "_________________________________________________________________\n",
      "conv2d_1 (Conv2D)            (None, 10, 10, 16)        2416      \n",
      "_________________________________________________________________\n",
      "average_pooling2d_1 (Average (None, 5, 5, 16)          0         \n",
      "_________________________________________________________________\n",
      "conv2d_2 (Conv2D)            (None, 1, 1, 120)         48120     \n",
      "_________________________________________________________________\n",
      "flatten (Flatten)            (None, 120)               0         \n",
      "_________________________________________________________________\n",
      "dense (Dense)                (None, 84)                10164     \n",
      "_________________________________________________________________\n",
      "dense_1 (Dense)              (None, 10)                850       \n",
      "=================================================================\n",
      "Total params: 61,706\n",
      "Trainable params: 61,706\n",
      "Non-trainable params: 0\n",
      "_________________________________________________________________\n"
     ]
    }
   ],
   "source": [
    "model.summary()"
   ]
  },
  {
   "cell_type": "code",
   "execution_count": 19,
   "metadata": {},
   "outputs": [],
   "source": [
    "model.compile(optimizer='adam',loss='categorical_crossentropy',metrics=['acc'])"
   ]
  },
  {
   "cell_type": "code",
   "execution_count": 21,
   "metadata": {},
   "outputs": [
    {
     "name": "stdout",
     "output_type": "stream",
     "text": [
      "Epoch 1/30\n",
      "2131/2131 [==============================] - 5s 2ms/step - loss: 0.8576 - acc: 0.6965 - val_loss: 0.8895 - val_acc: 0.6946\n",
      "Epoch 2/30\n",
      "2131/2131 [==============================] - 5s 2ms/step - loss: 0.8160 - acc: 0.7128 - val_loss: 0.8974 - val_acc: 0.6955\n",
      "Epoch 3/30\n",
      "2131/2131 [==============================] - 6s 3ms/step - loss: 0.7783 - acc: 0.7265 - val_loss: 0.8040 - val_acc: 0.7272\n",
      "Epoch 4/30\n",
      "2131/2131 [==============================] - 5s 2ms/step - loss: 0.7450 - acc: 0.7379 - val_loss: 0.7705 - val_acc: 0.7376\n",
      "Epoch 5/30\n",
      "2131/2131 [==============================] - 4s 2ms/step - loss: 0.7140 - acc: 0.7483 - val_loss: 0.7582 - val_acc: 0.7324\n",
      "Epoch 6/30\n",
      "2131/2131 [==============================] - 4s 2ms/step - loss: 0.6826 - acc: 0.7602 - val_loss: 0.7353 - val_acc: 0.7448\n",
      "Epoch 7/30\n",
      "2131/2131 [==============================] - 4s 2ms/step - loss: 0.6577 - acc: 0.7693 - val_loss: 0.7242 - val_acc: 0.7514\n",
      "Epoch 8/30\n",
      "2131/2131 [==============================] - 4s 2ms/step - loss: 0.6331 - acc: 0.7761 - val_loss: 0.8731 - val_acc: 0.6867\n",
      "Epoch 9/30\n",
      "2131/2131 [==============================] - 4s 2ms/step - loss: 0.6166 - acc: 0.7830 - val_loss: 0.6836 - val_acc: 0.7645\n",
      "Epoch 10/30\n",
      "2131/2131 [==============================] - 5s 2ms/step - loss: 0.5911 - acc: 0.7934 - val_loss: 0.7127 - val_acc: 0.7491\n",
      "Epoch 11/30\n",
      "2131/2131 [==============================] - 5s 2ms/step - loss: 0.5707 - acc: 0.7979 - val_loss: 0.6435 - val_acc: 0.7832\n",
      "Epoch 12/30\n",
      "2131/2131 [==============================] - 5s 2ms/step - loss: 0.5546 - acc: 0.8050 - val_loss: 0.6200 - val_acc: 0.7852\n",
      "Epoch 13/30\n",
      "2131/2131 [==============================] - 5s 2ms/step - loss: 0.5369 - acc: 0.8111 - val_loss: 0.6119 - val_acc: 0.7960\n",
      "Epoch 14/30\n",
      "2131/2131 [==============================] - 5s 2ms/step - loss: 0.5197 - acc: 0.8159 - val_loss: 0.6620 - val_acc: 0.7666\n",
      "Epoch 15/30\n",
      "2131/2131 [==============================] - 4s 2ms/step - loss: 0.5002 - acc: 0.8239 - val_loss: 0.6757 - val_acc: 0.7613\n",
      "Epoch 16/30\n",
      "2131/2131 [==============================] - 4s 2ms/step - loss: 0.4885 - acc: 0.8276 - val_loss: 0.6419 - val_acc: 0.7856\n",
      "Epoch 17/30\n",
      "2131/2131 [==============================] - 5s 2ms/step - loss: 0.4716 - acc: 0.8337 - val_loss: 0.5673 - val_acc: 0.8103\n",
      "Epoch 18/30\n",
      "2131/2131 [==============================] - 5s 2ms/step - loss: 0.4578 - acc: 0.8383 - val_loss: 0.5733 - val_acc: 0.8063\n",
      "Epoch 19/30\n",
      "2131/2131 [==============================] - 5s 2ms/step - loss: 0.4456 - acc: 0.8429 - val_loss: 0.5488 - val_acc: 0.8125\n",
      "Epoch 20/30\n",
      "2131/2131 [==============================] - 4s 2ms/step - loss: 0.4321 - acc: 0.8469 - val_loss: 0.5901 - val_acc: 0.8040\n",
      "Epoch 21/30\n",
      "2131/2131 [==============================] - 5s 2ms/step - loss: 0.4210 - acc: 0.8515 - val_loss: 0.5765 - val_acc: 0.8062\n",
      "Epoch 22/30\n",
      "2131/2131 [==============================] - 5s 2ms/step - loss: 0.4103 - acc: 0.8556 - val_loss: 0.5774 - val_acc: 0.8121\n",
      "Epoch 23/30\n",
      "2131/2131 [==============================] - 6s 3ms/step - loss: 0.3998 - acc: 0.8576 - val_loss: 0.5483 - val_acc: 0.8159\n",
      "Epoch 24/30\n",
      "2131/2131 [==============================] - 6s 3ms/step - loss: 0.3893 - acc: 0.8639 - val_loss: 0.6160 - val_acc: 0.7974\n",
      "Epoch 25/30\n",
      "2131/2131 [==============================] - 5s 2ms/step - loss: 0.3803 - acc: 0.8656 - val_loss: 0.5771 - val_acc: 0.8167\n",
      "Epoch 26/30\n",
      "2131/2131 [==============================] - 5s 2ms/step - loss: 0.3683 - acc: 0.8698 - val_loss: 0.6094 - val_acc: 0.8058\n",
      "Epoch 27/30\n",
      "2131/2131 [==============================] - 4s 2ms/step - loss: 0.3597 - acc: 0.8732 - val_loss: 0.5687 - val_acc: 0.8171\n",
      "Epoch 28/30\n",
      "2131/2131 [==============================] - 4s 2ms/step - loss: 0.3501 - acc: 0.8759 - val_loss: 0.5723 - val_acc: 0.8207\n",
      "Epoch 29/30\n",
      "2131/2131 [==============================] - 4s 2ms/step - loss: 0.3432 - acc: 0.8788 - val_loss: 0.6100 - val_acc: 0.7959\n",
      "Epoch 30/30\n",
      "2131/2131 [==============================] - 5s 2ms/step - loss: 0.3327 - acc: 0.8817 - val_loss: 0.5649 - val_acc: 0.8187\n"
     ]
    }
   ],
   "source": [
    "history = model.fit(train_images,train_labels,epochs = 30,validation_data=(test_images,test_labels))"
   ]
  },
  {
   "cell_type": "code",
   "execution_count": 20,
   "metadata": {},
   "outputs": [
    {
     "data": {
      "text/plain": [
       "[<matplotlib.lines.Line2D at 0x7fa71006e160>]"
      ]
     },
     "execution_count": 20,
     "metadata": {},
     "output_type": "execute_result"
    },
    {
     "data": {
      "image/png": "[encoded data removed]",
      "text/plain": [
       "<Figure size 432x288 with 1 Axes>"
      ]
     },
     "metadata": {
      "needs_background": "light"
     },
     "output_type": "display_data"
    }
   ],
   "source": [
    "plt.plot(history.epoch,history.history.get('acc'))\n",
    "plt.plot(history.epoch,history.history.get('val_acc'))"
   ]
  },
  {
   "cell_type": "code",
   "execution_count": 21,
   "metadata": {},
   "outputs": [
    {
     "name": "stdout",
     "output_type": "stream",
     "text": [
      "267/267 [==============================] - 0s 1ms/step - loss: 0.7007 - acc: 0.8097\n"
     ]
    },
    {
     "data": {
      "text/plain": [
       "[0.7006717920303345, 0.8097080588340759]"
      ]
     },
     "execution_count": 21,
     "metadata": {},
     "output_type": "execute_result"
    }
   ],
   "source": [
    "model.evaluate(test_images,test_labels)"
   ]
  },
  {
   "cell_type": "code",
   "execution_count": 22,
   "metadata": {},
   "outputs": [],
   "source": [
    "# 保存模型\n",
    "model.save('sat.h5')"
   ]
  }
 ],
 "metadata": {
  "kernelspec": {
   "display_name": "Python 3",
   "language": "python",
   "name": "python3"
  },
  "language_info": {
   "codemirror_mode": {
    "name": "ipython",
    "version": 3
   },
   "file_extension": ".py",
   "mimetype": "text/x-python",
   "name": "python",
   "nbconvert_exporter": "python",
   "pygments_lexer": "ipython3",
   "version": "3.8.5"
  }
 },
 "nbformat": 4,
 "nbformat_minor": 4
}
